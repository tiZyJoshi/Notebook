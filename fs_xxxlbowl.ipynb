{
  "cells": [
    {
      "cell_type": "markdown",
      "metadata": {},
      "source": [
        "The Domain\n",
        "\n",
        "The main goal is to generate a Matchcard. Sample Matchcards can be found in the Excel Sheet. A Team's Matchcard contains these informations:\n",
        "* The Treasury of the team before a game\n",
        "* The Winnings of the team in the match\n",
        "* The upkeep, which is depending on whether or not players are Starplayers and how high the initial cost of the starplayer was\n",
        "* The future treasury, which is the treasury before the game + winnings - upkeep\n",
        "* Also, in case the coach has players with special roles, special bowlbot commands are generated."
      ]
    },
    {
      "cell_type": "code",
      "execution_count": 1,
      "metadata": {
        "dotnet_interactive": {
          "language": "fsharp"
        }
      },
      "source": [
        "type Currency = Currency of int\n",
        "\n",
        "let sumCurrency cs = \n",
        "    Currency(List.sumBy (fun (Currency c) -> c) cs)\n",
        "\n",
        "let costToUpkeep (Currency c) =\n",
        "    if c < 56000 then (Currency 10000)\n",
        "    elif c < 106000 then (Currency 20000)\n",
        "    elif c < 156000 then (Currency 30000)\n",
        "    elif c < 206000 then (Currency 40000)\n",
        "    elif c < 301000 then (Currency 50000)\n",
        "    else (Currency 60000)\n",
        "\n",
        "type Position =\n",
        "    | Shaman\n",
        "    | PlayerCoach\n",
        "    | Cheerleader\n",
        "    | Filcher\n",
        "    | BribedRef\n",
        "    | Fan\n",
        "    | SquigTamer\n",
        "\n",
        "let toPosition p = \n",
        "    match p with\n",
        "    | \"Shaman\" -> Some Shaman\n",
        "    | \"Player-Coach\" -> Some PlayerCoach\n",
        "    | \"Cheerleader\" -> Some Cheerleader\n",
        "    | \"Filcher\" -> Some Filcher\n",
        "    | \"Bribed Ref\" -> Some BribedRef\n",
        "    | \"Fan\" -> Some Fan\n",
        "    | \"Squig Tamer\" -> Some SquigTamer\n",
        "    | _ -> None\n",
        "\n",
        "[<Literal>] \n",
        "let BB1D6 = \"bb1d6\"\n",
        "\n",
        "let positionToBowlbotMessage p =\n",
        "    match p with\n",
        "    | Shaman -> $\"{BB1D6},1d8\"\n",
        "    | PlayerCoach -> \"bb1dX,1d15\"\n",
        "    | Cheerleader -> BB1D6\n",
        "    | Filcher -> BB1D6\n",
        "    | BribedRef -> BB1D6\n",
        "    | Fan -> BB1D6\n",
        "    | SquigTamer -> BB1D6\n",
        "\n",
        "let positionToEmote p =\n",
        "    match p with\n",
        "    | Shaman -> \":shaman:\"\n",
        "    | PlayerCoach -> \":coach:\"\n",
        "    | Cheerleader -> \":cheer:\"\n",
        "    | Filcher -> \":filcher:\"\n",
        "    | BribedRef -> \":ref:\"\n",
        "    | Fan -> \":fan:\"\n",
        "    | SquigTamer -> \":tamer:\"\n",
        "\n",
        "type Player = \n",
        "    | Normal of string\n",
        "    | Star of string * Currency\n",
        "    | Special of string * Position\n",
        "\n",
        "type EmoteProvider =\n",
        "    | Position of Position\n",
        "    | Winnings\n",
        "    | Upkeep\n",
        "\n",
        "let toEmote ep =\n",
        "    match ep with\n",
        "    | Position p -> positionToEmote p\n",
        "    | Winnings -> \":winnings:\"\n",
        "    | Upkeep -> \":upkeep:\"\n",
        "\n",
        "let positionToMessage players position =\n",
        "    let rec getMessage position players =\n",
        "        match players with\n",
        "        | [] -> \"Not rostered\"\n",
        "        | head::tail ->\n",
        "            match head with\n",
        "            | Special (_,p) when p = position -> positionToBowlbotMessage p\n",
        "            | _ -> getMessage position tail\n",
        "    $\"{toEmote (Position position)} {getMessage position players}\"\n",
        "\n",
        "let treasuryBeforeMatchToMessage (Currency current) (Currency winnings) =\n",
        "    $\"Treasury: {current-winnings}\"\n",
        "\n",
        "let futureTreasuryToMessage (Currency current) (Currency upkeep) =\n",
        "    $\"Future Treasury: {current-upkeep}\"\n",
        "\n",
        "let winningsToMessage (Currency winnings) =\n",
        "    $\"{toEmote Winnings} {winnings}\"\n",
        "\n",
        "let upkeepToMessage (Currency upkeep) =\n",
        "    $\"{toEmote Upkeep} {upkeep}\"\n",
        "\n",
        "type FanFactor = FanFactor of int\n",
        "\n",
        "type Team = {\n",
        "    Name : string\n",
        "    Treasury : Currency\n",
        "    FanFactor : FanFactor\n",
        "    Players : Player list\n",
        "}\n",
        "\n",
        "let createTeam name treasury fanfactor players fUpkeep =\n",
        "    {\n",
        "        Name = name\n",
        "        Treasury = treasury\n",
        "        FanFactor = fanfactor\n",
        "        Players =\n",
        "            players \n",
        "            |> List.map (fun (name, position, positionid) -> \n",
        "                if position.Equals(name) then \n",
        "                    Star (name, fUpkeep positionid)\n",
        "                else\n",
        "                    match toPosition position with\n",
        "                    | Some pos -> Special (name, pos)\n",
        "                    | None -> Normal name\n",
        "                )\n",
        "    }\n",
        "\n",
        "let getTeamUpkeep t =\n",
        "    t.Players \n",
        "        |> List.choose (fun p -> \n",
        "            match p with\n",
        "            | Star (_, upkeep) -> Some upkeep\n",
        "            | _ -> None)\n",
        "        |> sumCurrency\n",
        "\n",
        "type MatchResult = {\n",
        "    Winnings : Currency\n",
        "}\n",
        "\n",
        "type MatchTeamResult = MatchTeamResult of Team * MatchResult\n",
        "\n",
        "let createMatchTeamResult team winnings =\n",
        "    MatchTeamResult(team, {Winnings=winnings})\n",
        "\n",
        "type Match = {\n",
        "    Team1 : MatchTeamResult\n",
        "    Team2 : MatchTeamResult\n",
        "}\n",
        "\n",
        "let createMatch team1 team1Winnings team2 team2Winnings =\n",
        "    { \n",
        "        Team1 = createMatchTeamResult team1 team1Winnings\n",
        "        Team2 = createMatchTeamResult team2 team2Winnings\n",
        "    }\n",
        "\n",
        "let toMatchCard (MatchTeamResult(t,r)) endline =\n",
        "    let upkeep = getTeamUpkeep t\n",
        "    let p2m = positionToMessage t.Players\n",
        "\n",
        "    let addLine l text =\n",
        "        text + l + endline\n",
        "        \n",
        "    t.Name + endline\n",
        "    |> addLine \"XXXLBowl #1\"\n",
        "    |> addLine (treasuryBeforeMatchToMessage t.Treasury r.Winnings)\n",
        "    |> addLine (winningsToMessage r.Winnings)\n",
        "    |> addLine (p2m BribedRef)\n",
        "    |> addLine (p2m Fan)\n",
        "    |> addLine (upkeepToMessage upkeep)\n",
        "    |> addLine (futureTreasuryToMessage t.Treasury upkeep)\n",
        "    |> addLine \"Specialist Rolls:\"\n",
        "    |> addLine (p2m Cheerleader)\n",
        "    |> addLine (p2m Fan)\n",
        "    |> addLine (p2m Filcher)\n",
        "    |> addLine (p2m PlayerCoach)\n",
        "    |> addLine (p2m Shaman)\n",
        "    |> addLine (p2m SquigTamer)"
      ],
      "outputs": []
    },
    {
      "cell_type": "markdown",
      "metadata": {},
      "source": [
        "The API\n",
        "https://fumbbl.com/apidoc/#"
      ]
    },
    {
      "cell_type": "code",
      "execution_count": 1,
      "metadata": {
        "dotnet_interactive": {
          "language": "fsharp"
        }
      },
      "source": [
        "#r \"nuget: FsHttp\"\n",
        "\n",
        "open FsHttp\n",
        "open FSharp.Data\n",
        "\n",
        "[<Literal>] \n",
        "let FumblAPI = \"https://fumbbl.com/api/\"\n",
        "[<Literal>] \n",
        "let PositionEndpoint = FumblAPI + \"position/get/\"\n",
        "[<Literal>] \n",
        "let TeamEndpoint = FumblAPI + \"team/get/\"\n",
        "[<Literal>] \n",
        "let MatchEndpoint = FumblAPI + \"match/get/\"\n",
        "\n",
        "[<Literal>] \n",
        "let PositionSample = PositionEndpoint + \"36290\"\n",
        "type JsonPosition = JsonProvider<PositionSample>\n",
        "\n",
        "let getPosition (i:int) = \n",
        "    http {\n",
        "        GET $\"{PositionEndpoint}{i}\"\n",
        "    }\n",
        "    |> toText\n",
        "    |> JsonPosition.Parse\n",
        "\n",
        "let getUpkeep i = \n",
        "    getPosition i\n",
        "    |> fun pos -> costToUpkeep (Currency pos.Cost)\n",
        "\n",
        "[<Literal>] \n",
        "let TeamSample = TeamEndpoint + \"997349\"\n",
        "type JsonTeam = JsonProvider<TeamSample>\n",
        "\n",
        "let getTeam (i:int) =\n",
        "    http {\n",
        "        GET $\"{TeamEndpoint}{i}\"\n",
        "    }\n",
        "    |> toText\n",
        "    |> JsonTeam.Parse\n",
        "    |> fun t -> createTeam t.Name (Currency t.Treasury) (FanFactor t.FanFactor) (t.Players |> Array.toList |> List.map (fun p -> (p.Name, p.Position, p.PositionId))) getUpkeep\n",
        "\n",
        "[<Literal>] \n",
        "let MatchSample = MatchEndpoint + \"4284928\"\n",
        "type JsonMatch = JsonProvider<MatchSample>\n",
        "\n",
        "let getMatch (i:int) = \n",
        "    http {\n",
        "        GET $\"{MatchEndpoint}{i}\"\n",
        "    }\n",
        "    |> toText\n",
        "    |> JsonMatch.Parse\n",
        "    |> fun m -> createMatch (getTeam m.Team1.Id) (Currency m.Team1.Winnings) (getTeam m.Team2.Id) (Currency m.Team2.Winnings)"
      ],
      "outputs": []
    },
    {
      "cell_type": "markdown",
      "metadata": {},
      "source": [
        "To get the required data to create MatchCards for a Match first, load the match with \n",
        "```\n",
        "getMatch {MatchID}\n",
        "```"
      ]
    },
    {
      "cell_type": "code",
      "execution_count": 1,
      "metadata": {
        "dotnet_interactive": {
          "language": "fsharp"
        }
      },
      "source": [
        "let matchData = getMatch 4284928"
      ],
      "outputs": []
    },
    {
      "cell_type": "markdown",
      "metadata": {},
      "source": [
        "Then you can create matchcards for each team with\n",
        "```\n",
        "toMatchCard {team}\n",
        "```\n",
        "System.Environment.NewLine is the standard way to get the new Line Handle"
      ]
    },
    {
      "cell_type": "code",
      "execution_count": 1,
      "metadata": {
        "dotnet_interactive": {
          "language": "fsharp"
        }
      },
      "source": [
        "let newLine = System.Environment.NewLine"
      ],
      "outputs": []
    },
    {
      "cell_type": "code",
      "execution_count": 1,
      "metadata": {
        "dotnet_interactive": {
          "language": "fsharp"
        }
      },
      "source": [
        "toMatchCard matchData.Team1 newLine"
      ],
      "outputs": [
        {
          "output_type": "execute_result",
          "data": {
            "text/plain": "Bogan Picnic Hamper Stealers\r\nXXXLBowl #1\r\nTreasury: 144000\r\n:winnings: 60000\r\n:ref: Not rostered\r\n:fan: Not rostered\r\n:upkeep: 0\r\nFuture Treasury: 204000\r\nSpecialist Rolls:\r\n:cheer: Not rostered\r\n:fan: Not rostered\r\n:filcher: bb1d6\r\n:coach: Not rostered\r\n:shaman: Not rostered\r\n:tamer: Not rostered\r\n"
          },
          "execution_count": 1,
          "metadata": {}
        }
      ]
    },
    {
      "cell_type": "code",
      "execution_count": 1,
      "metadata": {
        "dotnet_interactive": {
          "language": "fsharp"
        }
      },
      "source": [
        "toMatchCard matchData.Team2 newLine"
      ],
      "outputs": [
        {
          "output_type": "execute_result",
          "data": {
            "text/plain": "Black Tooth Rips\r\nXXXLBowl #1\r\nTreasury: 11000\r\n:winnings: 70000\r\n:ref: bb1d6\r\n:fan: bb1d6\r\n:upkeep: 70000\r\nFuture Treasury: 11000\r\nSpecialist Rolls:\r\n:cheer: bb1d6\r\n:fan: bb1d6\r\n:filcher: bb1d6\r\n:coach: Not rostered\r\n:shaman: bb1d6,1d8\r\n:tamer: Not rostered\r\n"
          },
          "execution_count": 1,
          "metadata": {}
        }
      ]
    }
  ],
  "metadata": {
    "kernelspec": {
      "display_name": ".NET (C#)",
      "language": "C#",
      "name": ".net-csharp"
    },
    "language_info": {
      "file_extension": ".cs",
      "mimetype": "text/x-csharp",
      "name": "C#",
      "pygments_lexer": "csharp",
      "version": "8.0"
    }
  },
  "nbformat": 4,
  "nbformat_minor": 4
}